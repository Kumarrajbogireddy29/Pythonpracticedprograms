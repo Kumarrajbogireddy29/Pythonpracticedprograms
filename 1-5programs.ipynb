{
 "cells": [
  {
   "cell_type": "code",
   "execution_count": null,
   "id": "969fad7e-a0f8-42f7-bf14-8f3a4773e4ef",
   "metadata": {},
   "outputs": [],
   "source": [
    "#program to print the \"Hello World\" #program1"
   ]
  },
  {
   "cell_type": "code",
   "execution_count": 2,
   "id": "2126b9f4-0458-4b2a-91b5-70acff650310",
   "metadata": {},
   "outputs": [
    {
     "name": "stdout",
     "output_type": "stream",
     "text": [
      "Hello To The World of Python\n"
     ]
    }
   ],
   "source": [
    "print(\"Hello To The World of Python\")"
   ]
  },
  {
   "cell_type": "code",
   "execution_count": 3,
   "id": "956e5cc2-8924-421c-b9b2-090f1477572f",
   "metadata": {},
   "outputs": [
    {
     "name": "stdout",
     "output_type": "stream",
     "text": [
      "welcome to the programming\n"
     ]
    }
   ],
   "source": [
    "print(\"welcome to the programming\")"
   ]
  },
  {
   "cell_type": "code",
   "execution_count": null,
   "id": "b5359013-1667-4fd1-932d-cdfe6b04d000",
   "metadata": {},
   "outputs": [],
   "source": []
  },
  {
   "cell_type": "code",
   "execution_count": null,
   "id": "4d9a5d69-7029-4945-9c0f-931bf62cfb0f",
   "metadata": {},
   "outputs": [],
   "source": [
    "#program2  "
   ]
  },
  {
   "cell_type": "code",
   "execution_count": null,
   "id": "d9db0af6-ab9a-40bd-b8ed-4ee027c54ff7",
   "metadata": {},
   "outputs": [],
   "source": [
    "#program to do arithmetic operations "
   ]
  },
  {
   "cell_type": "code",
   "execution_count": 5,
   "id": "0c861d74-7437-46ca-a9ff-009cd2bf5efb",
   "metadata": {},
   "outputs": [
    {
     "name": "stdin",
     "output_type": "stream",
     "text": [
      "Enter the value of num1 20\n",
      "Enter the value of num2 80\n"
     ]
    },
    {
     "name": "stdout",
     "output_type": "stream",
     "text": [
      "sum:20 +80 =100\n"
     ]
    }
   ],
   "source": [
    "#addition\n",
    "num1=int(input(\"Enter the value of num1\"))\n",
    "num2=int(input(\"Enter the value of num2\"))\n",
    "sum=num1+num2\n",
    "print(f\"sum:{num1} +{num2} ={sum}\")"
   ]
  },
  {
   "cell_type": "code",
   "execution_count": null,
   "id": "cdea3ba6-eecf-4686-9b27-fb3da76cffe9",
   "metadata": {},
   "outputs": [],
   "source": []
  },
  {
   "cell_type": "code",
   "execution_count": 6,
   "id": "dc24a1a5-c0bf-4790-abdf-a7091e9e0bf0",
   "metadata": {},
   "outputs": [
    {
     "name": "stdin",
     "output_type": "stream",
     "text": [
      "Enter the value of num1 45\n",
      "Enter the value of num2 20\n"
     ]
    },
    {
     "name": "stdout",
     "output_type": "stream",
     "text": [
      "sum:45 -20 =25\n"
     ]
    }
   ],
   "source": [
    "#subtraction\n",
    "num1=int(input(\"Enter the value of num1\"))\n",
    "num2=int(input(\"Enter the value of num2\"))\n",
    "sum=num1-num2\n",
    "print(f\"sum:{num1} -{num2} ={sum}\")"
   ]
  },
  {
   "cell_type": "code",
   "execution_count": null,
   "id": "feb9d73c-e9fc-4f45-bef1-a6f4c54b24e8",
   "metadata": {},
   "outputs": [],
   "source": []
  },
  {
   "cell_type": "code",
   "execution_count": 7,
   "id": "349a3058-c6a2-499c-81a9-870b2a27a09f",
   "metadata": {},
   "outputs": [
    {
     "name": "stdin",
     "output_type": "stream",
     "text": [
      "Enter the value of num1 98\n",
      "Enter the value of num2 89\n"
     ]
    },
    {
     "name": "stdout",
     "output_type": "stream",
     "text": [
      "sum:98 *89 =8722\n"
     ]
    }
   ],
   "source": [
    "#Multiplication\n",
    "num1=int(input(\"Enter the value of num1\"))\n",
    "num2=int(input(\"Enter the value of num2\"))\n",
    "sum=num1*num2\n",
    "print(f\"sum:{num1} *{num2} ={sum}\")"
   ]
  },
  {
   "cell_type": "code",
   "execution_count": null,
   "id": "36b8c336-2b4f-41af-9bc0-89edf8c0329a",
   "metadata": {},
   "outputs": [],
   "source": []
  },
  {
   "cell_type": "code",
   "execution_count": 8,
   "id": "786a21f1-8a5b-4ba8-9acc-3ef0aac10926",
   "metadata": {},
   "outputs": [
    {
     "name": "stdin",
     "output_type": "stream",
     "text": [
      "Enter the value of num1 50\n",
      "Enter the value of num2 2\n"
     ]
    },
    {
     "name": "stdout",
     "output_type": "stream",
     "text": [
      "sum:50/2 =25.0\n"
     ]
    }
   ],
   "source": [
    "#Division\n",
    "num1=int(input(\"Enter the value of num1\"))\n",
    "num2=int(input(\"Enter the value of num2\"))\n",
    "sum=num1/num2\n",
    "print(f\"sum:{num1}/{num2} ={sum}\")"
   ]
  },
  {
   "cell_type": "code",
   "execution_count": 9,
   "id": "1d1dc88a-fb86-452c-8426-c8f24e603bea",
   "metadata": {},
   "outputs": [
    {
     "name": "stdin",
     "output_type": "stream",
     "text": [
      "Enter the value of num1 10\n",
      "Enter the value of num2 2\n"
     ]
    },
    {
     "name": "stdout",
     "output_type": "stream",
     "text": [
      "sum:10//2 =5\n"
     ]
    }
   ],
   "source": [
    "#Divisior\n",
    "num1=int(input(\"Enter the value of num1\"))\n",
    "num2=int(input(\"Enter the value of num2\"))\n",
    "sum=num1//num2\n",
    "print(f\"sum:{num1}//{num2} ={sum}\")"
   ]
  },
  {
   "cell_type": "code",
   "execution_count": null,
   "id": "de110b52-cce2-4ec8-b772-1cbbe1d51985",
   "metadata": {},
   "outputs": [],
   "source": []
  },
  {
   "cell_type": "code",
   "execution_count": null,
   "id": "6edb0c08-c0b0-42d6-88ab-0f9ef49a879e",
   "metadata": {},
   "outputs": [],
   "source": [
    "#program to find the area of the Triangle #program3"
   ]
  },
  {
   "cell_type": "code",
   "execution_count": 13,
   "id": "9996f56c-df62-45ae-8ae1-b9e51f1a449c",
   "metadata": {},
   "outputs": [
    {
     "name": "stdin",
     "output_type": "stream",
     "text": [
      "Enter the base of the triangle 10\n",
      "Enter the height of the triangle 30\n"
     ]
    },
    {
     "name": "stdout",
     "output_type": "stream",
     "text": [
      "The area of the triangle is:150.0\n"
     ]
    }
   ],
   "source": [
    "#input to base and height from the user\n",
    "base=int(input(\"Enter the base of the triangle\"))\n",
    "height=int(input(\"Enter the height of the triangle\"))\n",
    "#calculate the area of the triangle \n",
    "area =0.5*base*height\n",
    "#display the result\n",
    "print(f\"The area of the triangle is:{area}\")"
   ]
  },
  {
   "cell_type": "code",
   "execution_count": null,
   "id": "81d5a820-202f-4066-b6c9-7d05d1c424bf",
   "metadata": {},
   "outputs": [],
   "source": []
  },
  {
   "cell_type": "code",
   "execution_count": null,
   "id": "65fb6242-5bc8-4da8-938f-08b6cbf92a3d",
   "metadata": {},
   "outputs": [],
   "source": [
    "#program4  python program to swap varaibles using the temp variable  program4"
   ]
  },
  {
   "cell_type": "code",
   "execution_count": 15,
   "id": "80923ef1-a2ee-4447-957e-4f5401df1c66",
   "metadata": {},
   "outputs": [
    {
     "name": "stdin",
     "output_type": "stream",
     "text": [
      "Enter the value of the first variable 25\n",
      "Enter the value of the seocnd variable 50\n"
     ]
    },
    {
     "name": "stdout",
     "output_type": "stream",
     "text": [
      "original values of  a :25 and  b:50\n",
      "The swapped values are a :50 ,b:25\n"
     ]
    }
   ],
   "source": [
    "#input to two varaibles\n",
    "a=input(\"Enter the value of the first variable\")\n",
    "b=input(\"Enter the value of the seocnd variable\")\n",
    "print(f\"original values of  a :{a} and  b:{b}\")\n",
    "temp=a\n",
    "a=b\n",
    "b=temp\n",
    "#display the swapped values\n",
    "print(f\"The swapped values are a :{a} and b:{b}\")"
   ]
  },
  {
   "cell_type": "code",
   "execution_count": null,
   "id": "63bc8e70-db16-4cac-8a20-5eb26b08bf3b",
   "metadata": {},
   "outputs": [],
   "source": []
  },
  {
   "cell_type": "code",
   "execution_count": null,
   "id": "478b1143-e729-429e-a5f6-af7a789a1492",
   "metadata": {},
   "outputs": [],
   "source": [
    "#program to import the random number #program5"
   ]
  },
  {
   "cell_type": "code",
   "execution_count": 18,
   "id": "19c7925e-b7ba-44be-a410-fdf1067904d2",
   "metadata": {},
   "outputs": [
    {
     "name": "stdout",
     "output_type": "stream",
     "text": [
      "Random number:22\n"
     ]
    }
   ],
   "source": [
    "import random\n",
    "print(f\"Random number:{random.randint(1,100)}\")"
   ]
  },
  {
   "cell_type": "code",
   "execution_count": null,
   "id": "2f2c92a0-4938-4d33-a4af-7b3e5f0f5679",
   "metadata": {},
   "outputs": [],
   "source": []
  }
 ],
 "metadata": {
  "kernelspec": {
   "display_name": "Python 3 (ipykernel)",
   "language": "python",
   "name": "python3"
  },
  "language_info": {
   "codemirror_mode": {
    "name": "ipython",
    "version": 3
   },
   "file_extension": ".py",
   "mimetype": "text/x-python",
   "name": "python",
   "nbconvert_exporter": "python",
   "pygments_lexer": "ipython3",
   "version": "3.12.7"
  }
 },
 "nbformat": 4,
 "nbformat_minor": 5
}
